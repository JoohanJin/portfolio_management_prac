{
 "cells": [
  {
   "cell_type": "markdown",
   "metadata": {},
   "source": [
    "### Downside Risk Measures\n",
    "- Reminded that asset returns were not normally distributed. In this context, the real concern for conducting investment is the probability of the large loss, the probability of the large negative return on the portfolios that they are holding.\n",
    "- Average or Standard Deviation around the mean, that is exactly what volatility means.\n",
    "- need to look at more **extreme deviation** around the mean. \n",
    "\n",
    "##### Volatility versus Semi-Deviation\n",
    "- Semi-deviation is **the volatiity of the sub-sample of Below-Average** OR **below-zero returns**.\n",
    "- Volatility or Uncertainty does not bother investors when they are upside. What really bothers invesotrs is when there's uncertainty or volatility on the downside. Therefore, we just *truncate* the return.\n",
    "    - simple to compute as a risk measure. \n",
    "        $$ \\sigma_{semi} = \\sqrt{\\frac{1}{N}\\sum_{R_t \\leq \\bar{R}}(R_t-\\bar{R})^2} $$\n",
    "        - Where $N$ is the *Number of Returns* that fall below the Mean.\n",
    "        - It is the *Semi-Deviation* since it is the deviation from the mean, but we only look at the deviation, when the value is the less than the mean.\n",
    "    - Gain does not talk anything about the extreme losses that can happen when we are below the mean."
   ]
  },
  {
   "cell_type": "markdown",
   "metadata": {},
   "source": [
    "##### Value at Risk - VaR\n",
    "- VaR is explicitly expressed as a positive number.\n",
    "- represents the Maximum \"expected\" loss over a given time period.\n",
    "    - The greater value of VaR, the greater chance of the loss.\n",
    "- The maximum loss that can occur to a portfolio holding with a given probability. \n",
    "    1. We, fisrtly, define a specified confidence level, let's say 99% for now.\n",
    "        - that we are looking at the worst possible outcome after excluding the one percent extreme losses.\n",
    "    2. We specify the time period that we're looking at, let's say a month.\n",
    "- That tells us the maximum loss that we can take in 99% of the cases over a month of period of time. \n",
    "- We look at the return distribution, and exclude the one percent of the wort cases. We look at the worst possible outcome after excluding the one percent worst cases. -> this will become the estimate for value at risk on a given horizon.\n"
   ]
  },
  {
   "cell_type": "markdown",
   "metadata": {},
   "source": [
    "##### Distribution Beyond VaR OR Conditional Value at Risk Esitmate\n",
    "- This is expressed as the positive number as well.\n",
    "- Since we are flowing away the 1% of the worst outcomes. Throwing that way is just throwing away meaningful information. Therefore, we introduce another value.\n",
    "- We are looking at the **expected loss beyond value at risk**.\n",
    "    $$ CVaR = -E(R | R \\leq -VaR)= \\frac{-\\int_{-\\infty}^{-VaR}x\\cdot f_{R}(x)dx}{F_R(-VaR)} $$\n",
    "- We look at the value at risk number, and looking at the distribution beyond the value at risk and then compute the average of that distribution beyond value at risk.\n",
    "    - Where $ -E(R|R\\leq -VaR) $ is **the Expected Return of conditional upon the return being less than VaR**.\n",
    "    - Since it is expressed as the positive number, there is minus sign at the front of the expected returns.\n",
    "    - $ f_R $ is the probability density function of the return distribution.\n",
    "    - $ F_R $ is the cumulative probability distribution function of the return distribution. "
   ]
  },
  {
   "cell_type": "markdown",
   "metadata": {},
   "source": [
    "### Estimating VaR\n",
    "- different statistical methodolgies that can be used to generate the meaningful estimates for value at risk\n",
    "- There are **AT LEAST** four standard methods for *Calculating VaR*\n",
    "    1. Historical Volatility: Non Parametric\n",
    "    2. Variance-Covariance: Parametric Gaussian\n",
    "    3. Parametric Non-Gaussian\n",
    "    4. Cornish-Fisher Value at risk: Semi-Parametric\n",
    "\n",
    "- They all have their pros and cons.\n",
    "- It a matter of selecting the best suitable given the particular context.\n",
    "\n",
    "\n",
    "\n",
    "    "
   ]
  },
  {
   "cell_type": "markdown",
   "metadata": {},
   "source": [
    "##### Historical Methodology\n",
    "- Calculation of **VaR** based on the **distribution of historical changes** in the value of the **current portfolio** under market prices over the **specified historical observation window**.\n",
    "- take the sample of returns and look at and throw away the respective worst case based on the given confidence level, and then focusing on the remaining worst outcome.\n",
    "- Pros \n",
    "    1. There is no assumption about asset-retur distribution.\n",
    "    2. No need to worry about myself specifying the model if I am not even using a model.\n",
    "- Cons\n",
    "    1. Since there is no assumption made, I am soley relying on historical data.\n",
    "        - the estmiate made can be sensitive to the sample data, i.e. variety of factors such as:\n",
    "            - sample period\n",
    "        - called \"Sample Risk\""
   ]
  },
  {
   "cell_type": "markdown",
   "metadata": {},
   "source": [
    "##### Parametric Gaussian Methodology\n",
    "- calculation of VaR based on the Portfolio volatility, i.e., on volatilities and correlations of components.\n",
    "- start with something about return distribution, i.e., there are assumptions made\n",
    "    - this is known as parametric approaches, coming up with the specific assumption regarding the return distribution and then, the focus will be on estimating the parameters of that return distribution. \n",
    "- the simplest example of a parametric assumption is to assume a Gaussian Distribution.\n",
    "    - If we assume the Gaussian Distribution, we only need to estimate the mean and voltility of the distribution.\n",
    "- looking at the Alpha Quantile, $\\alpha$-quantile, of the Standard Normal Distribution and that will compute the estimates the value of value at risk needed.\n",
    "    - where the Alpha Quantile, $ \\alpha $, is the point of $x$ such that the probability of a random variable from the standard normal distribution being less or equal to $x$ is $\\alpha$.\n",
    "    - i.e., $Z$ is a random variable from a standard normal distrbution, then the $\\alpha$-quantile is:\n",
    "        $$ P(Z\\leq qa) $$\n",
    "- Consider $Z_{\\alpha}$, the $\\alpha$ of the standard normal distribution :\n",
    "    - For example $Z_{\\alpha} = -1.65$ at 5% (Actually 4.95%)\n",
    "        $$ \\int_{-\\infty}^{Z_{\\alpha}}\\frac{1}{\\sigma \\cdot \\sqrt{2\\pi}}exp(\\frac{-x^2}{2\\sigma^2})dx = \\alpha $$\n",
    "    - By definition, $Z_{\\alpha}$ is the outcome which is such that there is only Alpha Percent chance to get below that quantity. \n",
    "    - We think in terms of the normalized distribution of returns.\n",
    "        - We subtract the meand and divide by standard deviation.\n",
    "        - **Normalized**: the process of scaling data to a standard range.\n",
    "- If asset returns are actually normally distributed, then we get the standard normal distribution.\n",
    "- the VaR estimated the ALpha Confidence Level is simply given by\n",
    "    $$ VaR_{\\alpha} = -(\\mu + {Z_{\\alpha}\\sigma})$$\n",
    "    - where\n",
    "        - $\\mu$: the estimate of the mean\n",
    "        - $\\sigma$: the esitmate of the variance or the volatility of return distribution. "
   ]
  },
  {
   "cell_type": "markdown",
   "metadata": {},
   "source": [
    "##### Assuming Normal Distributions **may undertake** risk.\n",
    "- We are taking more risk by assuming a Gaussian Distribution\n",
    "- We know that the Gaussian Assumption is not a good assumption for asset returns.\n",
    "    - looking at by how much would you b under-estimating VaR by using a Gaussina assumption compared to using the historical distribution for the S&P500\n",
    "- at the five percent level we are under-estimating value at least by 41%\n",
    "- Assuming a Gaussian distribution is not a good idea if your focus is on the tail of the distribution because the Gaussian Distribution has very thin tails and that is not what actual return distributions look like.\n",
    "- A Gaussian Assumption is simple, but not very an effective concept to use.\n"
   ]
  },
  {
   "cell_type": "markdown",
   "metadata": {},
   "source": [
    "##### Parametric but Non-Gaussian Assumption\n",
    "- When running a parametric assumption, we are running the risk of specifying a wrong model called a specification risk.\n",
    "    - keep on model risk or introducing model risk in our estimation.\n",
    "\n",
    "##### Cornish-Fisher VaR\n",
    "- An Alternative to PArametric exists **SEMI-PARAMETRIC APPROACH**.\n",
    "    - does not force us to assume any particular return distribution.\n",
    "- Cornish-Fisher Expansion\n",
    "    $$ \\tilde{Z_\\alpha} = Z_\\alpha+ \\frac{1}{6}(Z_{\\alpha^{2}-1})S+\\frac{1}{24}(Z_{\\alpha}^{3}-3Z_{\\alpha})(K-3)-\\frac{1}{36}(2Z_\\alpha^3-5Z_\\alpha)S^2 $$\n",
    "    - the given expansion is useful because it allows us to realte the Alpha quantile of Non-Gaussian distribution to the Alpha Quantile of the Gaussian Distribution.\n",
    "    - Where\n",
    "        - $\\tilde{Z_\\alpha}$: which is the alpha quantile of the Non-Gaussian and we express it in-terms of $Z$ of Alpha, which is the Alpha Quantile of the Gaussian Distribution.\n",
    "        - $S$: Skewness\n",
    "        - $K$: Kurtosis\n",
    "        - $Z_\\alpha$: The critical value based on the assumption based on Gaussian Distribution\n",
    "    - Essential, $\\tilde{Z_\\alpha}$ is equal to the $Z_\\alpha$ plus some cohesion.\n",
    "        - The cohesion actually, involves the skewness and the excess Kurtosis of the distribution.\n",
    "        - If the Skewness, $S$, goes to Zero and the Kurtosis, $K$ is equal to three, we go back to the standard normal distribution.\n",
    "    $$ VaR_{mod}(1-\\alpha) = -(\\mu+\\tilde{Z_\\alpha}\\sigma) $$\n",
    "    - However, in typical case, where the Skewness is typically negative and the Kurtosis is greater than 3, this adjustment, cohesion, will give us a VaR estimate which is different and actually higher than the Gaussian estimate.\n",
    "        - High value of VaR indicates a higher chance of getting bad negtaive outcome."
   ]
  },
  {
   "cell_type": "code",
   "execution_count": 3,
   "metadata": {},
   "outputs": [],
   "source": [
    "import pandas as pd\n",
    "import edhec_risk_kit as erk\n",
    "import numpy as np\n",
    "import matplotlib.pyplot as plt\n",
    "\n",
    "%reload_ext autoreload\n",
    "%autoreload 2\n",
    "# magic command for iPython to enable the display of matplotlib plots directly within the notebook.\n",
    "%matplotlib inline "
   ]
  },
  {
   "cell_type": "markdown",
   "metadata": {},
   "source": [
    "#### Downside Measure: Semi-Deviation"
   ]
  },
  {
   "cell_type": "code",
   "execution_count": 13,
   "metadata": {},
   "outputs": [
    {
     "name": "stderr",
     "output_type": "stream",
     "text": [
      "/home/joe/Projects/portfolioManagement/edhec_risk_kit.py:23: UserWarning: Parsing dates in %d/%m/%Y format when dayfirst=False (the default) was specified. Pass `dayfirst=True` or specify a format to silence this warning.\n",
      "  hfi = pd.read_csv(\"data/edhec-hedgefundindices.csv\",\n"
     ]
    },
    {
     "data": {
      "text/html": [
       "<div>\n",
       "<style scoped>\n",
       "    .dataframe tbody tr th:only-of-type {\n",
       "        vertical-align: middle;\n",
       "    }\n",
       "\n",
       "    .dataframe tbody tr th {\n",
       "        vertical-align: top;\n",
       "    }\n",
       "\n",
       "    .dataframe thead th {\n",
       "        text-align: right;\n",
       "    }\n",
       "</style>\n",
       "<table border=\"1\" class=\"dataframe\">\n",
       "  <thead>\n",
       "    <tr style=\"text-align: right;\">\n",
       "      <th></th>\n",
       "      <th>Convertible Arbitrage</th>\n",
       "      <th>CTA Global</th>\n",
       "      <th>Distressed Securities</th>\n",
       "      <th>Emerging Markets</th>\n",
       "      <th>Equity Market Neutral</th>\n",
       "      <th>Event Driven</th>\n",
       "      <th>Fixed Income Arbitrage</th>\n",
       "      <th>Global Macro</th>\n",
       "      <th>Long/Short Equity</th>\n",
       "      <th>Merger Arbitrage</th>\n",
       "      <th>Relative Value</th>\n",
       "      <th>Short Selling</th>\n",
       "      <th>Funds Of Funds</th>\n",
       "    </tr>\n",
       "    <tr>\n",
       "      <th>date</th>\n",
       "      <th></th>\n",
       "      <th></th>\n",
       "      <th></th>\n",
       "      <th></th>\n",
       "      <th></th>\n",
       "      <th></th>\n",
       "      <th></th>\n",
       "      <th></th>\n",
       "      <th></th>\n",
       "      <th></th>\n",
       "      <th></th>\n",
       "      <th></th>\n",
       "      <th></th>\n",
       "    </tr>\n",
       "  </thead>\n",
       "  <tbody>\n",
       "    <tr>\n",
       "      <th>1997-01</th>\n",
       "      <td>0.0119</td>\n",
       "      <td>0.0393</td>\n",
       "      <td>0.0178</td>\n",
       "      <td>0.0791</td>\n",
       "      <td>0.0189</td>\n",
       "      <td>0.0213</td>\n",
       "      <td>0.0191</td>\n",
       "      <td>0.0573</td>\n",
       "      <td>0.0281</td>\n",
       "      <td>0.0150</td>\n",
       "      <td>0.0180</td>\n",
       "      <td>-0.0166</td>\n",
       "      <td>0.0317</td>\n",
       "    </tr>\n",
       "    <tr>\n",
       "      <th>1997-02</th>\n",
       "      <td>0.0123</td>\n",
       "      <td>0.0298</td>\n",
       "      <td>0.0122</td>\n",
       "      <td>0.0525</td>\n",
       "      <td>0.0101</td>\n",
       "      <td>0.0084</td>\n",
       "      <td>0.0122</td>\n",
       "      <td>0.0175</td>\n",
       "      <td>-0.0006</td>\n",
       "      <td>0.0034</td>\n",
       "      <td>0.0118</td>\n",
       "      <td>0.0426</td>\n",
       "      <td>0.0106</td>\n",
       "    </tr>\n",
       "    <tr>\n",
       "      <th>1997-03</th>\n",
       "      <td>0.0078</td>\n",
       "      <td>-0.0021</td>\n",
       "      <td>-0.0012</td>\n",
       "      <td>-0.0120</td>\n",
       "      <td>0.0016</td>\n",
       "      <td>-0.0023</td>\n",
       "      <td>0.0109</td>\n",
       "      <td>-0.0119</td>\n",
       "      <td>-0.0084</td>\n",
       "      <td>0.0060</td>\n",
       "      <td>0.0010</td>\n",
       "      <td>0.0778</td>\n",
       "      <td>-0.0077</td>\n",
       "    </tr>\n",
       "    <tr>\n",
       "      <th>1997-04</th>\n",
       "      <td>0.0086</td>\n",
       "      <td>-0.0170</td>\n",
       "      <td>0.0030</td>\n",
       "      <td>0.0119</td>\n",
       "      <td>0.0119</td>\n",
       "      <td>-0.0005</td>\n",
       "      <td>0.0130</td>\n",
       "      <td>0.0172</td>\n",
       "      <td>0.0084</td>\n",
       "      <td>-0.0001</td>\n",
       "      <td>0.0122</td>\n",
       "      <td>-0.0129</td>\n",
       "      <td>0.0009</td>\n",
       "    </tr>\n",
       "    <tr>\n",
       "      <th>1997-05</th>\n",
       "      <td>0.0156</td>\n",
       "      <td>-0.0015</td>\n",
       "      <td>0.0233</td>\n",
       "      <td>0.0315</td>\n",
       "      <td>0.0189</td>\n",
       "      <td>0.0346</td>\n",
       "      <td>0.0118</td>\n",
       "      <td>0.0108</td>\n",
       "      <td>0.0394</td>\n",
       "      <td>0.0197</td>\n",
       "      <td>0.0173</td>\n",
       "      <td>-0.0737</td>\n",
       "      <td>0.0275</td>\n",
       "    </tr>\n",
       "  </tbody>\n",
       "</table>\n",
       "</div>"
      ],
      "text/plain": [
       "         Convertible Arbitrage  CTA Global  Distressed Securities  \\\n",
       "date                                                                \n",
       "1997-01                 0.0119      0.0393                 0.0178   \n",
       "1997-02                 0.0123      0.0298                 0.0122   \n",
       "1997-03                 0.0078     -0.0021                -0.0012   \n",
       "1997-04                 0.0086     -0.0170                 0.0030   \n",
       "1997-05                 0.0156     -0.0015                 0.0233   \n",
       "\n",
       "         Emerging Markets  Equity Market Neutral  Event Driven  \\\n",
       "date                                                             \n",
       "1997-01            0.0791                 0.0189        0.0213   \n",
       "1997-02            0.0525                 0.0101        0.0084   \n",
       "1997-03           -0.0120                 0.0016       -0.0023   \n",
       "1997-04            0.0119                 0.0119       -0.0005   \n",
       "1997-05            0.0315                 0.0189        0.0346   \n",
       "\n",
       "         Fixed Income Arbitrage  Global Macro  Long/Short Equity  \\\n",
       "date                                                               \n",
       "1997-01                  0.0191        0.0573             0.0281   \n",
       "1997-02                  0.0122        0.0175            -0.0006   \n",
       "1997-03                  0.0109       -0.0119            -0.0084   \n",
       "1997-04                  0.0130        0.0172             0.0084   \n",
       "1997-05                  0.0118        0.0108             0.0394   \n",
       "\n",
       "         Merger Arbitrage  Relative Value  Short Selling  Funds Of Funds  \n",
       "date                                                                      \n",
       "1997-01            0.0150          0.0180        -0.0166          0.0317  \n",
       "1997-02            0.0034          0.0118         0.0426          0.0106  \n",
       "1997-03            0.0060          0.0010         0.0778         -0.0077  \n",
       "1997-04           -0.0001          0.0122        -0.0129          0.0009  \n",
       "1997-05            0.0197          0.0173        -0.0737          0.0275  "
      ]
     },
     "execution_count": 13,
     "metadata": {},
     "output_type": "execute_result"
    }
   ],
   "source": [
    "hfi = erk.get_hfi_returns()\n",
    "hfi.head()"
   ]
  },
  {
   "cell_type": "code",
   "execution_count": 14,
   "metadata": {},
   "outputs": [
    {
     "data": {
      "text/plain": [
       "Global Macro              0.006579\n",
       "Merger Arbitrage          0.008875\n",
       "Equity Market Neutral     0.009566\n",
       "Funds Of Funds            0.012122\n",
       "Relative Value            0.012244\n",
       "CTA Global                0.012443\n",
       "Long/Short Equity         0.014051\n",
       "Distressed Securities     0.015185\n",
       "Event Driven              0.015429\n",
       "Fixed Income Arbitrage    0.017763\n",
       "Convertible Arbitrage     0.019540\n",
       "Short Selling             0.027283\n",
       "Emerging Markets          0.028039\n",
       "dtype: float64"
      ]
     },
     "execution_count": 14,
     "metadata": {},
     "output_type": "execute_result"
    }
   ],
   "source": [
    "erk.semideviation(hfi).sort_values()"
   ]
  },
  {
   "cell_type": "code",
   "execution_count": 5,
   "metadata": {},
   "outputs": [
    {
     "data": {
      "text/plain": [
       "SmallCap    0.051772\n",
       "LargeCap    0.040245\n",
       "dtype: float64"
      ]
     },
     "execution_count": 5,
     "metadata": {},
     "output_type": "execute_result"
    }
   ],
   "source": [
    "ffme = erk.get_ffme_returns()\n",
    "erk.semideviation(ffme)"
   ]
  },
  {
   "cell_type": "markdown",
   "metadata": {},
   "source": [
    "#### VaR and CVaR\n",
    "I will go through three different values for VaR\n",
    "1. Historic VaR\n",
    "2. Parametric Gaussian VaR\n",
    "3. Modified (Cornish-Fisher) VaR\n",
    "\n",
    "##### Historic VaR\n",
    "- To compute the historic VaR at a certain level, let's say 5%, we have to do the followings:\n",
    "    1. find the number such that 5% of the returns fall below the number\n",
    "    2. 95% of the returns above the number computed from the step 1."
   ]
  },
  {
   "cell_type": "code",
   "execution_count": 6,
   "metadata": {},
   "outputs": [
    {
     "data": {
      "text/plain": [
       "Convertible Arbitrage     0.031776\n",
       "CTA Global                0.049542\n",
       "Distressed Securities     0.046654\n",
       "Emerging Markets          0.088466\n",
       "Equity Market Neutral     0.018000\n",
       "Event Driven              0.048612\n",
       "Fixed Income Arbitrage    0.041672\n",
       "Global Macro              0.024316\n",
       "Long/Short Equity         0.049558\n",
       "Merger Arbitrage          0.025336\n",
       "Relative Value            0.026660\n",
       "Short Selling             0.113576\n",
       "Funds Of Funds            0.039664\n",
       "dtype: float64"
      ]
     },
     "execution_count": 6,
     "metadata": {},
     "output_type": "execute_result"
    }
   ],
   "source": [
    "erk.var_historic(hfi, level=1)"
   ]
  },
  {
   "cell_type": "markdown",
   "metadata": {},
   "source": [
    "##### Conditional VaR aka Beyond VaR\n",
    "It is easy to have CVaR based on. To find the mean of the numbers that fall below the VaR"
   ]
  },
  {
   "cell_type": "code",
   "execution_count": 7,
   "metadata": {},
   "outputs": [
    {
     "data": {
      "text/plain": [
       "Global Macro              0.029333\n",
       "Equity Market Neutral     0.036100\n",
       "Merger Arbitrage          0.036233\n",
       "Relative Value            0.052367\n",
       "CTA Global                0.054767\n",
       "Funds Of Funds            0.061133\n",
       "Long/Short Equity         0.061867\n",
       "Distressed Securities     0.070967\n",
       "Event Driven              0.071267\n",
       "Fixed Income Arbitrage    0.072467\n",
       "Convertible Arbitrage     0.086100\n",
       "Short Selling             0.123867\n",
       "Emerging Markets          0.141167\n",
       "dtype: float64"
      ]
     },
     "execution_count": 7,
     "metadata": {},
     "output_type": "execute_result"
    }
   ],
   "source": [
    "erk.cvar_historic(hfi, level=1).sort_values()"
   ]
  },
  {
   "cell_type": "code",
   "execution_count": 8,
   "metadata": {},
   "outputs": [
    {
     "data": {
      "text/plain": [
       "SmallCap    0.236950\n",
       "LargeCap    0.195233\n",
       "dtype: float64"
      ]
     },
     "execution_count": 8,
     "metadata": {},
     "output_type": "execute_result"
    }
   ],
   "source": [
    "erk.cvar_historic(ffme, level=1)"
   ]
  },
  {
   "cell_type": "markdown",
   "metadata": {},
   "source": [
    "##### Parametric Gaussian VaR\n",
    "- Assume that the distribution of the return is under the Normal Gaussian Distribution\n",
    "- If we make the assumption, where a set of returns are normally distributed, then the 50% of the set is below the mean and another 50% of the set is above the mean.\n",
    "- We also know that around 2/3 of the set is one standard deviation away from the mean. This also means that another 1/3 of the set is beyond one standard deviation away from the mean.\n",
    "- The Standard Normal Distribution is symmetric, approximately 16% of the sample lie below one standard deviation away from the mean.\n",
    "\n",
    "- We can change the percentile point to z-score\n",
    "    - where z-score means the number of standard deviation where the specific value is away from the mean.\n",
    "    - Therefore, if we convert the VaR level to a z-score, we can calculate the return level where the percent of the set lying below the VaR.\n",
    "    - Therefore, all we need to do to estimate the VaR using this method is to find the z-score corresponding to percentile level, and then add that many standard deviations to the mean, to obtain the VaR."
   ]
  },
  {
   "cell_type": "code",
   "execution_count": 9,
   "metadata": {},
   "outputs": [],
   "source": [
    "from scipy.stats import norm"
   ]
  },
  {
   "cell_type": "code",
   "execution_count": 10,
   "metadata": {},
   "outputs": [
    {
     "data": {
      "text/plain": [
       "np.float64(0.0)"
      ]
     },
     "execution_count": 10,
     "metadata": {},
     "output_type": "execute_result"
    }
   ],
   "source": [
    "norm.ppf(0.5)"
   ]
  },
  {
   "cell_type": "code",
   "execution_count": 11,
   "metadata": {},
   "outputs": [
    {
     "data": {
      "text/plain": [
       "np.float64(-0.994457883209753)"
      ]
     },
     "execution_count": 11,
     "metadata": {},
     "output_type": "execute_result"
    }
   ],
   "source": [
    "norm.ppf(0.16)"
   ]
  }
 ],
 "metadata": {
  "kernelspec": {
   "display_name": "portfolioManagement_env",
   "language": "python",
   "name": "python3"
  },
  "language_info": {
   "codemirror_mode": {
    "name": "ipython",
    "version": 3
   },
   "file_extension": ".py",
   "mimetype": "text/x-python",
   "name": "python",
   "nbconvert_exporter": "python",
   "pygments_lexer": "ipython3",
   "version": "3.10.12"
  }
 },
 "nbformat": 4,
 "nbformat_minor": 2
}
