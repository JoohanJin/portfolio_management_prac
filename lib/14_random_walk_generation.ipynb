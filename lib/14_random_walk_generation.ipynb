{
 "cells": [
  {
   "cell_type": "markdown",
   "metadata": {},
   "source": [
    "### Random Walk Generation\n",
    "Recall that the stochastic model for asset returns is given by the Geometric Brownian Motion process:\n",
    "$$ \\frac{S_{t+dt}-S_t}{S_t}=\\mu dt +\\sigma \\sqrt{dt} \\xi_t $$\n",
    "\n",
    "When we generate simulated returns, we can usually ignore the decompositino of $ \\mu $, since we only care about the net effective drift term without worrying about what the components of it are.\n",
    "\n",
    "The implementation is very close to the equation above, although it can be optimized in many ways, this is the most direct translation of the equation.\n",
    "``` Python\n",
    "import numpy as np\n",
    "\n",
    "def gbm(\n",
    "    n_years = 10,\n",
    "    n_scenarios = 1000,\n",
    "    mu = 0.07,\n",
    "    sigma = 0.15,\n",
    "    steps_per_year = 12,\n",
    "    s_0 = 100.0\n",
    "):\n",
    "    \"\"\"\n",
    "    Evolution of Geometric Brownian Motion trajectories, such as for Stock Prices\n",
    "    :param n_years: The number of years to generate data for\n",
    "    :param n_paths: The number of scenarios/trajectories\n",
    "    :param mu: Annualized Drift, e.g., Market Return\n",
    "    :param sigma: Annualized Volatility\n",
    "    :param steps_per_year: grranularity of the simulation\n",
    "    :param s_0: initial value\n",
    "    :return: a numpy array of n_paths columns and n_years * steps_per_year_rows.\n",
    "    \"\"\"\n",
    "    # Derive per-step model parameters from user specifications\n",
    "    dt = 1/steps_per_year\n",
    "    n_steps = int(n_years * steps_per_year)\n",
    "    xi = np.random.normal(size = (n_steps, n_scenarios))\n",
    "\n",
    "    # start with just the returns, biased by mu_dt plus 1 since we wil need that later.\n",
    "    rets = mu * dt + sigma * np.sqrt(dt) * xi\n",
    "    prices = s_0 * (1 + rets).cumprod()\n",
    "\n",
    "    return prices\n",
    "```"
   ]
  },
  {
   "cell_type": "code",
   "execution_count": 9,
   "metadata": {},
   "outputs": [
    {
     "name": "stdout",
     "output_type": "stream",
     "text": [
      "The autoreload extension is already loaded. To reload it, use:\n",
      "  %reload_ext autoreload\n"
     ]
    }
   ],
   "source": [
    "%load_ext autoreload\n",
    "%autoreload 2\n",
    "%matplotlib inline\n",
    "\n",
    "import numpy as np\n",
    "import pandas as pd"
   ]
  },
  {
   "cell_type": "code",
   "execution_count": 7,
   "metadata": {},
   "outputs": [],
   "source": [
    "def gbm0(\n",
    "    n_years = 10,\n",
    "    n_scenarios = 1000,\n",
    "    mu = 0.07,\n",
    "    sigma = 0.15,\n",
    "    steps_per_year = 12,\n",
    "    s_0 = 100.0\n",
    "):\n",
    "    \"\"\"\n",
    "    Evolution of Geometric Brownian Motion trajectories, such as for Stock Prices\n",
    "    :param n_years: The number of years to generate data for\n",
    "    :param n_paths: The number of scenarios/trajectories\n",
    "    :param mu: Annualized Drift, e.g., Market Return\n",
    "    :param sigma: Annualized Volatility\n",
    "    :param steps_per_year: grranularity of the simulation\n",
    "    :param s_0: initial value\n",
    "    :return: a numpy array of n_paths columns and n_years * steps_per_year_rows.\n",
    "    \"\"\"\n",
    "    # Derive per-step model parameters from user specifications\n",
    "    dt = 1/steps_per_year\n",
    "    n_steps = int(n_years * steps_per_year)\n",
    "    xi = np.random.normal(size = (n_steps, n_scenarios))\n",
    "\n",
    "    # start with just the returns, biased by mu_dt plus 1 since we wil need that later.\n",
    "    rets = mu * dt + sigma * np.sqrt(dt) * xi\n",
    "    # convert to a DataFrame\n",
    "    rets = pd.DataFrame(rets)\n",
    "    # covert to prices\n",
    "    prices = s_0 * (1 + rets).cumprod()\n",
    "\n",
    "    return prices"
   ]
  },
  {
   "cell_type": "code",
   "execution_count": 8,
   "metadata": {},
   "outputs": [
    {
     "ename": "AttributeError",
     "evalue": "'numpy.ndarray' object has no attribute 'plot'",
     "output_type": "error",
     "traceback": [
      "\u001b[0;31m---------------------------------------------------------------------------\u001b[0m",
      "\u001b[0;31mAttributeError\u001b[0m                            Traceback (most recent call last)",
      "Cell \u001b[0;32mIn[8], line 1\u001b[0m\n\u001b[0;32m----> 1\u001b[0m \u001b[43mgbm0\u001b[49m\u001b[43m(\u001b[49m\u001b[43mn_years\u001b[49m\u001b[43m \u001b[49m\u001b[38;5;241;43m=\u001b[39;49m\u001b[43m \u001b[49m\u001b[38;5;241;43m5\u001b[39;49m\u001b[43m,\u001b[49m\u001b[43m \u001b[49m\u001b[43mn_scenarios\u001b[49m\u001b[38;5;241;43m=\u001b[39;49m\u001b[38;5;241;43m1000\u001b[39;49m\u001b[43m,\u001b[49m\u001b[43m \u001b[49m\u001b[43mmu\u001b[49m\u001b[38;5;241;43m=\u001b[39;49m\u001b[43m \u001b[49m\u001b[38;5;241;43m0.07\u001b[39;49m\u001b[43m)\u001b[49m\u001b[38;5;241;43m.\u001b[39;49m\u001b[43mplot\u001b[49m(figsize \u001b[38;5;241m=\u001b[39m (\u001b[38;5;241m12\u001b[39m, \u001b[38;5;241m5\u001b[39m), legend \u001b[38;5;241m=\u001b[39m \u001b[38;5;28;01mFalse\u001b[39;00m)\n",
      "\u001b[0;31mAttributeError\u001b[0m: 'numpy.ndarray' object has no attribute 'plot'"
     ]
    }
   ],
   "source": [
    "gbm0(n_years = 5, n_scenarios=1000, mu= 0.07).plot(figsize = (12, 5), legend = False)"
   ]
  }
 ],
 "metadata": {
  "kernelspec": {
   "display_name": "env",
   "language": "python",
   "name": "python3"
  },
  "language_info": {
   "codemirror_mode": {
    "name": "ipython",
    "version": 3
   },
   "file_extension": ".py",
   "mimetype": "text/x-python",
   "name": "python",
   "nbconvert_exporter": "python",
   "pygments_lexer": "ipython3",
   "version": "3.10.12"
  }
 },
 "nbformat": 4,
 "nbformat_minor": 2
}
