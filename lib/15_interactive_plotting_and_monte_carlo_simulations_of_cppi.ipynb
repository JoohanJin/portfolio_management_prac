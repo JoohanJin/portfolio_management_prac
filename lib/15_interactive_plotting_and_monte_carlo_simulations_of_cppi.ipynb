{
 "cells": [
  {
   "cell_type": "markdown",
   "metadata": {},
   "source": [
    "### Interactive Plotting and Monte Carlo Simulations of CPPI"
   ]
  },
  {
   "cell_type": "code",
   "execution_count": 1,
   "metadata": {},
   "outputs": [],
   "source": [
    "import ipywidgets as widgets\n",
    "from IPython.display import display\n",
    "import pandas as pd\n",
    "import portfolio_management_lib as prt\n",
    "\n",
    "%load_ext autoreload\n",
    "%autoreload 2"
   ]
  },
  {
   "cell_type": "markdown",
   "metadata": {},
   "source": [
    "##### GBM Simulations"
   ]
  },
  {
   "cell_type": "code",
   "execution_count": 2,
   "metadata": {},
   "outputs": [],
   "source": [
    "def show_gbm(\n",
    "    n_scenarios: int,\n",
    "    mu: float,\n",
    "    sigma: float,\n",
    ") -> None:\n",
    "    \"\"\"\n",
    "    Draw the results of a stock price evolution under a Geometric Brownian Motion Model.\n",
    "    \"\"\"\n",
    "    s_0: int = 100\n",
    "    prices = prt.gbm(\n",
    "        n_scenarios = n_scenarios,\n",
    "        mu = mu,\n",
    "        sigma = sigma,\n",
    "    )\n",
    "    ax = prices.plot(\n",
    "        legend = False,\n",
    "        color = \"indianred\",\n",
    "        alpha = 0.5,\n",
    "        linewidth = 2,\n",
    "        figsize = (12, 5),\n",
    "    )\n",
    "    ax.axhline(\n",
    "        y = 100,\n",
    "        ls = \":\",\n",
    "        color = \"black\",\n",
    "    )\n",
    "    \n",
    "    # draw a dot at the origin\n",
    "    ax.plot(0, s_0, marker = \"o\", color = 'darkred', alpha = 0.2)\n",
    "\n",
    "    return"
   ]
  },
  {
   "cell_type": "code",
   "execution_count": 3,
   "metadata": {},
   "outputs": [],
   "source": [
    "gbm_controls = widgets.interactive(\n",
    "    show_gbm,\n",
    "    n_scenarios = widgets.IntSlider(\n",
    "        min = 1, max = 100, step = 1, value = 1,\n",
    "    ),\n",
    "    mu = (0., .2, 0.01),\n",
    "    sigma = (0, .3, 0.01)\n",
    ")"
   ]
  },
  {
   "cell_type": "code",
   "execution_count": 4,
   "metadata": {},
   "outputs": [
    {
     "data": {
      "application/vnd.jupyter.widget-view+json": {
       "model_id": "3569b65c50b7474cacd24b8564e58bbb",
       "version_major": 2,
       "version_minor": 0
      },
      "text/plain": [
       "interactive(children=(IntSlider(value=1, description='n_scenarios', min=1), FloatSlider(value=0.1, description…"
      ]
     },
     "metadata": {},
     "output_type": "display_data"
    }
   ],
   "source": [
    "display(gbm_controls)"
   ]
  },
  {
   "cell_type": "markdown",
   "metadata": {},
   "source": [
    "##### Interactive CPPI Monte Carlo Testing"
   ]
  },
  {
   "cell_type": "code",
   "execution_count": 5,
   "metadata": {},
   "outputs": [
    {
     "data": {
      "application/vnd.jupyter.widget-view+json": {
       "model_id": "9ff29d381a174f0c8ddad5794a042fd4",
       "version_major": 2,
       "version_minor": 0
      },
      "text/plain": [
       "interactive(children=(IntSlider(value=50, description='n_scenarios', max=150, min=-50), FloatSlider(value=0.07…"
      ]
     },
     "metadata": {},
     "output_type": "display_data"
    }
   ],
   "source": [
    "def show_cppi(\n",
    "    n_scenarios: int = 50,\n",
    "    mu: float = 0.07,\n",
    "    sigma: float = 0.15,\n",
    "    m: float = 3,\n",
    "    floor: float = 0.,\n",
    "    riskfree_rate = 0.03,\n",
    "    y_max = 100,\n",
    ") -> None:\n",
    "    \"\"\"\n",
    "    Plot the results of a Monte Carlo Simulations of CPPI.\n",
    "    \"\"\"\n",
    "    start = 100\n",
    "    sim_rets = prt.gbm(\n",
    "        n_scenarios = n_scenarios,\n",
    "        mu = mu,\n",
    "        sigma = sigma,\n",
    "        s_0 = start,\n",
    "        steps_per_year = 12,\n",
    "        prices = False,\n",
    "    )\n",
    "    riksy_r = sim_rets\n",
    "\n",
    "    # run the back-test\n",
    "    btr = prt.run_cppi(\n",
    "        risky_r = riksy_r,\n",
    "        m = m, # multiplier\n",
    "        start = start,\n",
    "        floor = floor,\n",
    "        riskfree_rate = riskfree_rate\n",
    "    )\n",
    "\n",
    "    wealth = btr[\"Wealth\"]\n",
    "    y_max = wealth.values.max() * y_max / 100\n",
    "\n",
    "    ax = wealth.plot(\n",
    "        legend = False,\n",
    "        alpha = 0.3,\n",
    "        color = \"indianred\",\n",
    "        figsize = (12, 6)\n",
    "    )\n",
    "    # Start Value\n",
    "    ax.axhline(\n",
    "        y = start,\n",
    "        ls = \":\",\n",
    "        color = \"black\",\n",
    "    )\n",
    "    # Floor Value\n",
    "    ax.axhline(\n",
    "        y = start * floor,\n",
    "        ls = \"--\",\n",
    "        color = \"red\",\n",
    "    )\n",
    "    ax.set_ylim(top = y_max)\n",
    "    return\n",
    "\n",
    "cppi_controls = widgets.interactive(\n",
    "    show_cppi,\n",
    "    n_scenario = widgets.IntSlider(\n",
    "        min = 1,\n",
    "        max = 1000,\n",
    "        step = 5,\n",
    "        value = 50,\n",
    "    ),\n",
    "    mu = (0., .2, 0.01),\n",
    "    sigma = (0, 0.30, 0.05),\n",
    "    floor = (0, 2, .1),\n",
    "    m = (1, 5, .5),\n",
    "    riskfree_rate = (0, .05, .01),\n",
    "    y_max = widgets.IntSlider(\n",
    "        min = 0,\n",
    "        max = 100,\n",
    "        step = 1,\n",
    "        value = 100,\n",
    "        description = \"Zoom Y Axis\"\n",
    "    )\n",
    ")\n",
    "\n",
    "display(cppi_controls)"
   ]
  },
  {
   "cell_type": "markdown",
   "metadata": {},
   "source": [
    "##### Adding a Histogram and Reporting Floor Violations"
   ]
  },
  {
   "cell_type": "code",
   "execution_count": 6,
   "metadata": {},
   "outputs": [
    {
     "data": {
      "application/vnd.jupyter.widget-view+json": {
       "model_id": "7f9aa07459d24fd0b5c3721acc99fc88",
       "version_major": 2,
       "version_minor": 0
      },
      "text/plain": [
       "interactive(children=(IntSlider(value=50, description='n_scenarios', max=1000, min=1, step=5), FloatSlider(val…"
      ]
     },
     "metadata": {},
     "output_type": "display_data"
    }
   ],
   "source": [
    "import matplotlib.pyplot as plt\n",
    "\n",
    "def show_cppi(\n",
    "    n_scenarios: int = 50,\n",
    "    mu: float = 0.07,\n",
    "    sigma: float = 0.15,\n",
    "    m: float = 3.,\n",
    "    floor: float = 0.0,\n",
    "    riskfree_rate: float = 0.03,\n",
    "    y_max: float = 100.0,\n",
    ") -> None:\n",
    "    \"\"\"\n",
    "    Plot the results of a Monte Carlo Simulation of CPPI\n",
    "    \"\"\"\n",
    "    start = 100\n",
    "    sim_rets = prt.gbm(\n",
    "        n_scenarios = n_scenarios,\n",
    "        mu = mu,\n",
    "        sigma = sigma,\n",
    "        prices = False,\n",
    "    )\n",
    "    risky_r = sim_rets\n",
    "\n",
    "    # run the back test\n",
    "    # backtest result -> btr\n",
    "    btr = prt.run_cppi(\n",
    "        risky_r = risky_r,\n",
    "        m = m,\n",
    "        start = start,\n",
    "        floor = floor,\n",
    "        riskfree_rate = riskfree_rate,\n",
    "    )\n",
    "    wealth = btr[\"Wealth\"]\n",
    "    \n",
    "    # Caclulate terminal wealth state\n",
    "    y_max = wealth.values.max() * y_max / 100\n",
    "    terminal_wealth = wealth.iloc[-1]\n",
    "\n",
    "    # Plot\n",
    "    fig, (wealth_ax, hist_ax) = plt.subplots(\n",
    "        nrows = 1, \n",
    "        ncols = 2, \n",
    "        sharey = True,\n",
    "        gridspec_kw = {\n",
    "            'width_ratios': [3, 2],\n",
    "        },\n",
    "        figsize = (24, 9)\n",
    "    )\n",
    "    plt.subplots_adjust(wspace = 0.0)\n",
    "\n",
    "    wealth.plot(\n",
    "        ax = wealth_ax,\n",
    "        legend = False,\n",
    "        alpha = 0.3,\n",
    "        color = \"indianred\",\n",
    "    )\n",
    "\n",
    "    wealth_ax.axhline(y = start, ls = \":\", color = \"black\")\n",
    "    wealth_ax.axhline(y = start * floor, ls = \"--\", color = \"red\")\n",
    "    wealth_ax.set_ylim(top = y_max)\n",
    "\n",
    "    terminal_wealth.plot.hist(ax = hist_ax, bins = 50, ec = 'w', fc = \"indianred\", orientation = 'horizontal')\n",
    "    hist_ax.axhline(y = start, ls = \":\", color = \"black\")\n",
    "\n",
    "    return\n",
    "\n",
    "cppi_controls = widgets.interactive(\n",
    "    show_cppi,\n",
    "    n_scenarios = widgets.IntSlider(min = 1, max = 1000, step = 5, value = 50),\n",
    "    mu = (0., .2, 0.01),\n",
    "    floor = (0, 2, .05),\n",
    "    m = (1, 5, .5),\n",
    "    riskfree_rate = (0, 0.05, 0.01),\n",
    "    y_max = widgets.IntSlider(\n",
    "        min = 0, \n",
    "        max = 100,\n",
    "        step = 1,\n",
    "        value = 100,\n",
    "        descrption = \"Zoom Y Axis\",\n",
    "    )\n",
    ")\n",
    "\n",
    "display(cppi_controls)"
   ]
  },
  {
   "cell_type": "markdown",
   "metadata": {},
   "source": [
    "##### Adding Terminal Wealth Statistics"
   ]
  },
  {
   "cell_type": "code",
   "execution_count": 8,
   "metadata": {},
   "outputs": [
    {
     "data": {
      "application/vnd.jupyter.widget-view+json": {
       "model_id": "9f6e1d3a69a44948804157abe3bda07a",
       "version_major": 2,
       "version_minor": 0
      },
      "text/plain": [
       "interactive(children=(IntSlider(value=50, description='n_scenarios', max=1000, min=1, step=10), FloatSlider(va…"
      ]
     },
     "metadata": {},
     "output_type": "display_data"
    }
   ],
   "source": [
    "import matplotlib.pyplot as plt\n",
    "import numpy as np\n",
    "\n",
    "def show_cppi(\n",
    "    n_scenarios: int = 50, # number of trajectories\n",
    "    mu: float = 0.07, # annualized return\n",
    "    sigma: float = 0.15, # annualized volatility\n",
    "    m: float = 3,\n",
    "    floor: float = 0.,\n",
    "    riskfree_rate: float = 0.03,\n",
    "    steps_per_year: float = 12,\n",
    "    y_max: int = 100,\n",
    ") -> None:\n",
    "    \"\"\"\n",
    "    Plot the results of a Monte Carlo Simulation of CPPI.\n",
    "    \"\"\"\n",
    "    start = 100\n",
    "    sim_rets = prt.gbm(\n",
    "        n_scenarios=n_scenarios,\n",
    "        mu = mu,\n",
    "        sigma = sigma,\n",
    "        prices = False,\n",
    "        steps_per_year = steps_per_year,\n",
    "    )\n",
    "    risky_r = pd.DataFrame(sim_rets)\n",
    "\n",
    "    # run the back test\n",
    "    btr = prt.run_cppi(\n",
    "        risky_r = risky_r,\n",
    "        m = m,\n",
    "        start = start,\n",
    "        floor = floor,\n",
    "        riskfree_rate = riskfree_rate,\n",
    "    )\n",
    "    wealth = btr[\"Wealth\"]\n",
    "\n",
    "    # calculate terminal wealth stats\n",
    "    y_max = wealth.values.max() * y_max / 100\n",
    "    terminal_wealth = wealth.iloc[-1]\n",
    "\n",
    "    tw_mean = terminal_wealth.mean()\n",
    "    tw_median = terminal_wealth.median()\n",
    "    failure_mask = np.less(terminal_wealth, start * floor)\n",
    "    n_failures = failure_mask.sum()\n",
    "    p_failures = n_failures / n_scenarios\n",
    "\n",
    "    e_shortfall = np.dot(terminal_wealth - start * floor, failure_mask) / n_failures if n_failures > 0 else 0.\n",
    "\n",
    "    # plot\n",
    "    fig, (wealth_ax, hist_ax) = plt.subplots(\n",
    "        nrows = 1,\n",
    "        ncols = 2,\n",
    "        sharey= True,\n",
    "        gridspec_kw = {\n",
    "            'width_ratios':[3,2]\n",
    "        },\n",
    "        figsize = (24, 9),\n",
    "    )\n",
    "\n",
    "    plt.subplots_adjust(wspace = 0.0)\n",
    "\n",
    "    wealth.plot(ax = wealth_ax, legend = False, alpha = 0.3, color = \"indianred\")\n",
    "    # initial asset value\n",
    "    wealth_ax.axhline(\n",
    "        y = start,\n",
    "        ls = \":\",\n",
    "        color = \"black\" \n",
    "    )\n",
    "    # floor asset value\n",
    "    wealth_ax.axhline(\n",
    "        y = start * floor,\n",
    "        ls = \":\",\n",
    "        color = \"red\",\n",
    "    )\n",
    "    wealth_ax.set_ylim(top = y_max)\n",
    "\n",
    "    terminal_wealth.plot.hist(\n",
    "        ax = hist_ax,\n",
    "        bins = 50,\n",
    "        ec = 'w',\n",
    "        fc = 'indianred',\n",
    "        orientation = 'horizontal'\n",
    "    )\n",
    "    hist_ax.axhline(y = start, ls = \":\", color = \"black\")\n",
    "    hist_ax.axhline(y = tw_mean, ls = \":\", color = \"blue\")\n",
    "    hist_ax.axhline(y = tw_median, ls = \":\", color = \"purple\")\n",
    "    hist_ax.annotate(f\"Mean: ${int(tw_mean)}\", xy=(.7, .9),xycoords='axes fraction', fontsize = 20)\n",
    "    hist_ax.annotate(f\"Median: ${int(tw_median)}\", xy = (.7, .85), xycoords='axes fraction', fontsize = 20)\n",
    "\n",
    "    if (floor > 1e-3):\n",
    "        hist_ax.axhline(\n",
    "            y=start*floor,\n",
    "            ls=\"--\", \n",
    "            color=\"red\", \n",
    "            linewidth=3\n",
    "            )\n",
    "        hist_ax.annotate(\n",
    "            f\"Violations: {n_failures} ({p_failures*100:2.2f}%)\\nE(shortfall)=${e_shortfall:2.2f}\", \n",
    "            xy=(.7, .7), \n",
    "            xycoords='axes fraction', \n",
    "            fontsize=20\n",
    "            )\n",
    "\n",
    "    return\n",
    "\n",
    "cppi_controls = widgets.interactive(\n",
    "    show_cppi,\n",
    "    # n_scenarios=widgets.IntSlider(min=100, max=1000, step=10, value=50),\n",
    "    n_scenarios = (1, 1000, 10),\n",
    "    mu=(0., +.2, .01),\n",
    "    sigma=(0, .3, .05),\n",
    "    floor=(0, 2, .1),\n",
    "    m=(1, 5, .5),\n",
    "    riskfree_rate=(0, .05, .01),\n",
    "    steps_per_year=widgets.IntSlider(min=1, max=12, step=1, value=12,\n",
    "    description=\"Rebals/Year\"),\n",
    "    y_max=widgets.IntSlider(min=0, max=100, step=1, value=100,\n",
    "    description=\"Zoom Y Axis\")\n",
    ")\n",
    "display(cppi_controls)"
   ]
  }
 ],
 "metadata": {
  "kernelspec": {
   "display_name": "env",
   "language": "python",
   "name": "python3"
  },
  "language_info": {
   "codemirror_mode": {
    "name": "ipython",
    "version": 3
   },
   "file_extension": ".py",
   "mimetype": "text/x-python",
   "name": "python",
   "nbconvert_exporter": "python",
   "pygments_lexer": "ipython3",
   "version": "3.10.12"
  }
 },
 "nbformat": 4,
 "nbformat_minor": 2
}
