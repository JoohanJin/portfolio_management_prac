{
 "cells": [
  {
   "cell_type": "markdown",
   "metadata": {},
   "source": [
    "### Present Value of Liabilities and Funding Ratio\n",
    "We will examine how to discount future liabilities to compute the present value of future liabilities, and measure the funding ratio.\n",
    "\n",
    "The funding ratio is the ratio of the current value of assets to teh present value of the liabilities.\n",
    "\n",
    "In order to compute the present value, we need to discount the amount of the liability based on the relevant interest rate derived from the yield curve.\n",
    "\n",
    "For simplicity, we will assume that the yield curve is flat, i.e., interest rate, yield, of each bond with different terms are the same -> the interest rate is the same for all horizons.\n",
    "\n",
    "The present value of a set of liabilities $L$ where each liability $L_i$ is due at time $t_i$ is given by:\n",
    "$$ PV(L) = \\sum_{i=1}^k B(t_i)L_i $$\n",
    "Where\n",
    "- $B(t_i)$: the price of a pure discount bond that pays 1 dollar at time $t_i$.\n",
    "\n",
    "If we assume the yield curve is flat and the annual rate of interest is $r$ then $B(t)$, dicount rate, is given by:\n",
    "$$ B(t) = \\frac{1}{(1+r)^t} $$"
   ]
  },
  {
   "cell_type": "code",
   "execution_count": 2,
   "metadata": {},
   "outputs": [],
   "source": [
    "import numpy as np\n",
    "import pandas as pd\n",
    "import portfolio_management_lib as prt\n",
    "\n",
    "%load_ext autoreload\n",
    "%autoreload 2"
   ]
  },
  {
   "cell_type": "code",
   "execution_count": 5,
   "metadata": {},
   "outputs": [],
   "source": [
    "def discount(t, r):\n",
    "    \"\"\"\n",
    "    Compute the price of a pure discount bond that pays $1 at time t where t is in years and r is the annual interest rate.\n",
    "    This is the dicousnt rate.\n",
    "    \"\"\"\n",
    "    return (1 + r) ** (-t)"
   ]
  },
  {
   "cell_type": "code",
   "execution_count": 6,
   "metadata": {},
   "outputs": [
    {
     "data": {
      "text/plain": [
       "0.7440939148967249"
      ]
     },
     "execution_count": 6,
     "metadata": {},
     "output_type": "execute_result"
    }
   ],
   "source": [
    "b = discount(10, 0.03)\n",
    "b"
   ]
  },
  {
   "cell_type": "markdown",
   "metadata": {},
   "source": [
    "We can verify that if we buy that bond today, and hold it for 10 years at an interate rate of 3 percent a year, we will get paid %1."
   ]
  },
  {
   "cell_type": "code",
   "execution_count": 7,
   "metadata": {},
   "outputs": [
    {
     "data": {
      "text/plain": [
       "1.0"
      ]
     },
     "execution_count": 7,
     "metadata": {},
     "output_type": "execute_result"
    }
   ],
   "source": [
    "b * (1 + 0.03) ** 10"
   ]
  },
  {
   "cell_type": "code",
   "execution_count": 22,
   "metadata": {},
   "outputs": [],
   "source": [
    "def pv(l, r):\n",
    "    \"\"\"\n",
    "    Compute the present value of a list of liabilities given by the time, as an index, and amounts.\n",
    "    \"\"\"\n",
    "    dates = l.index\n",
    "    discounts = discount(dates, r)\n",
    "    return (discounts * l).sum()"
   ]
  },
  {
   "cell_type": "code",
   "execution_count": 12,
   "metadata": {},
   "outputs": [],
   "source": [
    "liabilities = pd.Series(data = [1, 1.5, 2, 2.5], index = [3, 3.5, 4, 4.5])"
   ]
  },
  {
   "cell_type": "code",
   "execution_count": 23,
   "metadata": {},
   "outputs": [
    {
     "data": {
      "text/plain": [
       "np.float64(6.233320315080045)"
      ]
     },
     "execution_count": 23,
     "metadata": {},
     "output_type": "execute_result"
    }
   ],
   "source": [
    "pv(liabilities, 0.03)"
   ]
  },
  {
   "cell_type": "markdown",
   "metadata": {},
   "source": [
    "Assume that you have 4 liabilities, of 1, 1.5, 2, and 2.5 Months dollars. Assume that the first of these are 3 years away and the subsequent ones are spaced out 6 months apart, i.e., at time 3, 3.5, 4, 4.5 years from now. Let's compute the present value of the liabilities based on an interest rate of 3% per year.\n",
    "\n",
    "In an individual investment context, you can think of liabilities as Goals, such as saving for Life Events such as a down payment for a house, college expenses for your children, or retirement income. In each of these cases, we have a requirement of a cash flow at some point in the future, anytime you have a future cash requirement, we can think of it as a liabiltity."
   ]
  },
  {
   "cell_type": "markdown",
   "metadata": {},
   "source": [
    "We can now compute the funding ratio, based on the current asset values:"
   ]
  },
  {
   "cell_type": "code",
   "execution_count": 24,
   "metadata": {},
   "outputs": [],
   "source": [
    "def funding_ratio(assets, liabilities, r):\n",
    "    \"\"\"\n",
    "    Compute the funding ratio of a series of liabilities, based on an interest rate and current value of assets.\n",
    "    \"\"\"\n",
    "    return assets / pv(liabilities, r)"
   ]
  },
  {
   "cell_type": "code",
   "execution_count": 25,
   "metadata": {},
   "outputs": [
    {
     "data": {
      "text/plain": [
       "np.float64(0.8021407126958777)"
      ]
     },
     "execution_count": 25,
     "metadata": {},
     "output_type": "execute_result"
    }
   ],
   "source": [
    "funding_ratio(5, liabilities, 0.03)"
   ]
  },
  {
   "cell_type": "code",
   "execution_count": 26,
   "metadata": {},
   "outputs": [
    {
     "data": {
      "text/plain": [
       "np.float64(0.7720304366941648)"
      ]
     },
     "execution_count": 26,
     "metadata": {},
     "output_type": "execute_result"
    }
   ],
   "source": [
    "funding_ratio(5, liabilities, 0.02)"
   ]
  },
  {
   "cell_type": "markdown",
   "metadata": {},
   "source": [
    "We can examine the effect of interest rates on funding ratio:\n",
    "Recall that our liabilities are:"
   ]
  },
  {
   "cell_type": "code",
   "execution_count": 27,
   "metadata": {},
   "outputs": [
    {
     "data": {
      "text/plain": [
       "3.0    1.0\n",
       "3.5    1.5\n",
       "4.0    2.0\n",
       "4.5    2.5\n",
       "dtype: float64"
      ]
     },
     "execution_count": 27,
     "metadata": {},
     "output_type": "execute_result"
    }
   ],
   "source": [
    "liabilities"
   ]
  },
  {
   "cell_type": "code",
   "execution_count": 28,
   "metadata": {},
   "outputs": [
    {
     "data": {
      "application/vnd.jupyter.widget-view+json": {
       "model_id": "3595538fb0dd4239b2c13617dc69437d",
       "version_major": 2,
       "version_minor": 0
      },
      "text/plain": [
       "interactive(children=(IntSlider(value=5, description='assets', max=10, min=1), FloatSlider(value=0.1, descript…"
      ]
     },
     "metadata": {},
     "output_type": "display_data"
    }
   ],
   "source": [
    "import ipywidgets as widgets\n",
    "from IPython.display import display\n",
    "%matplotlib inline\n",
    "\n",
    "def show_funding_ratio(\n",
    "    assets,\n",
    "    r,\n",
    "):\n",
    "    fr = funding_ratio(assets, liabilities, r)\n",
    "    print(f'{fr * 100:.2f}%')\n",
    "\n",
    "controls = widgets.interactive(\n",
    "    show_funding_ratio,\n",
    "    assets = widgets.IntSlider(\n",
    "        min = 1,\n",
    "        max = 10,\n",
    "        step = 1,\n",
    "        value = 5,\n",
    "    ),\n",
    "    r = (0, .20, .01)\n",
    ")\n",
    "\n",
    "display(controls)"
   ]
  },
  {
   "cell_type": "markdown",
   "metadata": {},
   "source": [
    "As the illustration above shows, even if the assets do not go down in value, cash can be a risky asset if we think about the funding ratio rather than the asset value. Even though cash is a \"safe asset\" in the sense that the asset value does not go down, cash can be very risky asset because the value of the liabilities goes up when interest rates go down. Therefore, if we thinkg about the savings in terms of funding ratio, how much money do we have compared to what we need, then cash is a risky asset and can result in a decline in the funding ratio."
   ]
  }
 ],
 "metadata": {
  "kernelspec": {
   "display_name": "env",
   "language": "python",
   "name": "python3"
  },
  "language_info": {
   "codemirror_mode": {
    "name": "ipython",
    "version": 3
   },
   "file_extension": ".py",
   "mimetype": "text/x-python",
   "name": "python",
   "nbconvert_exporter": "python",
   "pygments_lexer": "ipython3",
   "version": "3.10.12"
  }
 },
 "nbformat": 4,
 "nbformat_minor": 2
}
