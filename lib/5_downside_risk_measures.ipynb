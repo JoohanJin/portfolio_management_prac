{
 "cells": [
  {
   "cell_type": "markdown",
   "metadata": {},
   "source": [
    "### Downside Risk Measures\n",
    "- Reminded that asset returns were not normally distributed. In this context, the real concern for conducting investment is the probability of the large loss, the probability of the large negative return on the portfolios that they are holding.\n",
    "- Average or Standard Deviation around the mean, that is exactly what volatility means.\n",
    "- need to look at more **extreme deviation** around the mean. \n",
    "\n",
    "##### Volatility versus Semi-Deviation\n",
    "- Semi-deviation is **the volatiity of the sub-sample of Below-Average** OR **below-zero returns**.\n",
    "- Volatility or Uncertainty does not bother investors when they are upside. What really bothers invesotrs is when there's uncertainty or volatility on the downside. Therefore, we just *truncate* the return.\n",
    "    - simple to compute as a risk measure. \n",
    "        $$ \\sigma_{semi} = \\sqrt{\\frac{1}{N}\\sum_{R_t \\leq \\bar{R}}(R_t-\\bar{R})^2} $$\n",
    "        - Where $N$ is the *Number of Returns* that fall below the Mean.\n",
    "        - It is the *Semi-Deviation* since it is the deviation from the mean, but we only look at the deviation, when the value is the less than the mean.\n",
    "    - Gain does not talk anything about the extreme losses that can happen when we are below the mean."
   ]
  },
  {
   "cell_type": "markdown",
   "metadata": {},
   "source": [
    "##### Value at Risk - VaR\n",
    "- VaR is explicitly expressed as a positive number.\n",
    "- represents the Maximum \"expected\" loss over a given time period.\n",
    "- The maximum loss that can occur to a portfolio holding with a given probability. \n",
    "    1. We, fisrtly, define a specified confidence level, let's say 99% for now.\n",
    "        - that we are looking at the worst possible outcome after excluding the one percent extreme losses.\n",
    "    2. We specify the time period that we're looking at, let's say a month.\n",
    "- That tells us the maximum loss that we can take in 99% of the cases over a month of period of time. \n",
    "- We look at the return distribution, and exclude the one percent of the wort cases. We look at the worst possible outcome after excluding the one percent worst cases. -> this will become the estimate for value at risk on a given horizon.\n"
   ]
  },
  {
   "cell_type": "markdown",
   "metadata": {},
   "source": [
    "##### Distribution Beyond VaR OR Conditional Value at Risk Esitmate\n",
    "- This is expressed as the positive number as well.\n",
    "- Since we are flowing away the 1% of the worst outcomes. Throwing that way is just throwing away meaningful information. Therefore, we introduce another value.\n",
    "- We are looking at the **expected loss beyond value at risk**.\n",
    "    $$ CVaR = -E(R | R \\leq -VaR)= \\frac{-\\int_{-\\infty}^{-VaR}x\\cdot f_{R}(x)dx}{F_R(-VaR)} $$\n",
    "- We look at the value at risk number, and looking at the distribution beyond the value at risk and then compute the average of that distribution beyond value at risk.\n",
    "    - Where $ -E(R|R\\leq -VaR) $ is **the Expected Return of conditional upon the return being less than VaR**.\n",
    "    - Since it is expressed as the positive number, there is minus sign at the front of the expected returns.\n",
    "    - $ f_R $ is the probability density function of the return distribution.\n",
    "    - $ F_R $ is the cumulative probability distribution function of the return distribution. "
   ]
  }
 ],
 "metadata": {
  "language_info": {
   "name": "python"
  }
 },
 "nbformat": 4,
 "nbformat_minor": 2
}
