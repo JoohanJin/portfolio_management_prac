{
 "cells": [
  {
   "cell_type": "markdown",
   "metadata": {},
   "source": [
    "### Estimating VaR\n",
    "- different statistical methodolgies that can be used to generate the meaningful estimates for value at risk\n",
    "- There are **AT LEAST** four standard methods for *Calculating VaR*\n",
    "    1. Historical Volatility: Non Parametric\n",
    "    2. Variance-Covariance: Parametric Gaussian\n",
    "    3. Parametric Non-Gaussian\n",
    "    4. Cornish-Fisher Value at risk: Semi-Parametric\n",
    "\n",
    "- They all have their pros and cons.\n",
    "- It a matter of selecting the best suitable given the particular context.\n",
    "\n",
    "\n",
    "\n",
    "    "
   ]
  },
  {
   "cell_type": "markdown",
   "metadata": {},
   "source": [
    "##### Historical Methodology\n",
    "- Calculation of **VaR** based on the **distribution of historical changes** in the value of the **current portfolio** under market prices over the **specified historical observation window**.\n",
    "- take the sample of returns and look at and throw away the respective worst case based on the given confidence level, and then focusing on the remaining worst outcome.\n",
    "- Pros \n",
    "    1. There is no assumption about asset-retur distribution.\n",
    "    2. No need to worry about myself specifying the model if I am not even using a model.\n",
    "- Cons\n",
    "    1. Since there is no assumption made, I am soley relying on historical data.\n",
    "        - the estmiate made can be sensitive to the sample data, i.e. variety of factors such as:\n",
    "            - sample period\n",
    "        - called \"Sample Risk\""
   ]
  },
  {
   "cell_type": "markdown",
   "metadata": {},
   "source": [
    "##### Parametric Gaussian Methodology\n",
    "- calculation of VaR based on the Portfolio volatility, i.e., on volatilities and correlations of components.\n",
    "- start with something about return distribution, i.e., there are assumptions made\n",
    "    - this is known as parametric approaches, coming up with the specific assumption regarding the return distribution and then, the focus will be on estimating the parameters of that return distribution. \n",
    "- the simplest example of a parametric assumption is to assume a Gaussian Distribution.\n",
    "    - If we assume the Gaussian Distribution, we only need to estimate the mean and voltility of the distribution.\n",
    "- looking at the Alpha Quantile of the Standard Normal Distribution and that will compute the estimates the value of value at risk needed.\n",
    "    - where the Alpha Quantile, $ \\alpha $, is the point of $x$ such that the probability of a random variable from the standard normal distribution being less or equal to $x$ is $\\alpha$."
   ]
  }
 ],
 "metadata": {
  "language_info": {
   "name": "python"
  }
 },
 "nbformat": 4,
 "nbformat_minor": 2
}
