{
 "cells": [
  {
   "cell_type": "markdown",
   "metadata": {},
   "source": [
    "### Efficient Frontier - Part 3: Running the Optimizer\n",
    "In order to plot the frontier for portfolios with more than 2 assets, we need to find the weights of the portfolio on the Efficient Frontier.\n",
    "\n",
    "We start by creating the same sort of function that we already created for the 2 asset case:"
   ]
  },
  {
   "cell_type": "markdown",
   "metadata": {},
   "source": [
    "``` Python\n",
    "def plot_ef(er, cov, n_points):\n",
    "    \"\"\"\n",
    "    Plots the multi-asset Efficient Frontier\n",
    "    \"\"\"\n",
    "    weights == ?? # we need to implement: optimal_weights(n_points, er, cov)\n",
    "\n",
    "    rets = [portfoloio_return(w, er) for w in weights]\n",
    "    vols = [portfolio_vol(w, cov) for w in weights]\n",
    "    ef = pd.DataFrame({\n",
    "        \"R\": rets,\n",
    "        \"V\": vols,\n",
    "    })\n",
    "    return ef.plot.line(x = \"V\", y = \"R\", style = \".-\")\n",
    "```"
   ]
  },
  {
   "cell_type": "code",
   "execution_count": 2,
   "metadata": {},
   "outputs": [
    {
     "name": "stdout",
     "output_type": "stream",
     "text": [
      "The autoreload extension is already loaded. To reload it, use:\n",
      "  %reload_ext autoreload\n"
     ]
    },
    {
     "name": "stderr",
     "output_type": "stream",
     "text": [
      "/home/joe/Study/portfolio_management_prac/lib/portfolio_management_lib.py:215: UserWarning: Could not infer format, so each element will be parsed individually, falling back to `dateutil`. To ensure parsing is consistent and as-expected, please specify a format.\n",
      "  ind = pd.read_csv(\"data/ind30_m_vw_rets.csv\", header=0, index_col=0, parse_dates=True)/100\n"
     ]
    }
   ],
   "source": [
    "# Let's start by loading up the data as usual:\n",
    "%load_ext autoreload\n",
    "%autoreload 2\n",
    "%matplotlib inline\n",
    "import portfolio_management_lib as port\n",
    "\n",
    "ind = port.get_ind_returns()\n",
    "ind_annualized_rets = port.annualize_rets(ind[\"1996\": \"2000\"], \"Monthly\")\n",
    "cov = ind[\"1996\": \"2000\"].cov()"
   ]
  },
  {
   "cell_type": "markdown",
   "metadata": {},
   "source": [
    "in order to find the optimal weights, we need a function that will minimize the volatility for a given level of return.\n",
    "``` Python\n",
    "def minimize_vol(target_return, er, cov):\n",
    "    \"\"\"\n",
    "    Returns the optimal weights that achieve the target return\n",
    "    given a set of expected returns and a covariance matrix.\n",
    "    \"\"\"\n",
    "    n: int = er.shape[0] # How many assets do we have?\n",
    "    init_guess = np.repeat(1/n, n) # sample weights where each asset have the same weight in the portfolio\n",
    "```\n",
    "\n",
    "Let's use this to recreate the result we got from frontier for the 2-Asset optimization between \"Games\" and \"Fin\". Let's plot that efficient frontier as we did last time."
   ]
  },
  {
   "cell_type": "code",
   "execution_count": 16,
   "metadata": {},
   "outputs": [
    {
     "data": {
      "text/plain": [
       "<Axes: xlabel='V'>"
      ]
     },
     "execution_count": 16,
     "metadata": {},
     "output_type": "execute_result"
    },
    {
     "data": {
      "image/png": "[encoded data removed]",
      "text/plain": [
       "<Figure size 640x480 with 1 Axes>"
      ]
     },
     "metadata": {},
     "output_type": "display_data"
    }
   ],
   "source": [
    "l = [\"Games\", \"Fin\"]\n",
    "port.plot_ef2(\n",
    "    ind_annualized_rets[l],\n",
    "    cov.loc[l, l],\n",
    "    n_points = 20\n",
    ")"
   ]
  },
  {
   "cell_type": "markdown",
   "metadata": {},
   "source": [
    "The Efficient Frontier for the portfolio that has a target return of 0.15 is approx 0.056, so let's see if our optimizer is able to locate it."
   ]
  },
  {
   "cell_type": "code",
   "execution_count": 28,
   "metadata": {},
   "outputs": [
    {
     "data": {
      "text/plain": [
       "np.float64(0.056163669406706564)"
      ]
     },
     "execution_count": 28,
     "metadata": {},
     "output_type": "execute_result"
    }
   ],
   "source": [
    "weights_15 = port.minimize_vol(0.15, ind_annualized_rets[l], cov.loc[l, l])\n",
    "vol_15 = port.portfolio_vol(weights_15, cov.loc[l, l])\n",
    "vol_15"
   ]
  },
  {
   "cell_type": "markdown",
   "metadata": {},
   "source": [
    "We got the volatility value as expected.\n",
    "\n",
    "Now that we can find the wegiths to minimize the vol given a target return, we can plot the efficient frontier by dividing up the range from the highest to the lowest possible return into a grid, and finding the portfolio that targets the minimize volatility given a particular targeted rate of return.\n",
    "\n",
    "Add these:\n",
    "``` Python\n",
    "def optimal_weights(\n",
    "    expected_return,\n",
    "    cov,\n",
    "    n_points = 20,\n",
    "):\n",
    "    \"\"\"\n",
    "    \"\"\"\n",
    "    target_rs = np.linspace(er.min(), er.max(), n_points)\n",
    "    weights = [minimize_vol(target_return, er, cov) for target_return in target_rs]\n",
    "    return weights\n",
    "```\n",
    "\n",
    "```Python\n",
    "def plot_ef(\n",
    "    expected_return,\n",
    "    cov,\n",
    "    n_points = 20,\n",
    "):\n",
    "    \"\"\"\n",
    "    Plots the ulti-asset efficient frontier\n",
    "    \"\"\"\n",
    "    weights = optimal_wegiths(n_points, er, cov) # not yet implemented\n",
    "    rets = [portfolio_return(w, er) for w in weights]\n",
    "    vols = [portfolio_vol(w, cov) for w in weights]\n",
    "    ef = pd.DataFrame({\n",
    "        \"R\": rets,\n",
    "        \"V\": vols,\n",
    "    })\n",
    "    return ef.plot.line(x = \"V\", y = \"R\", style = \".-\")\n",
    "\n",
    "```\n"
   ]
  }
 ],
 "metadata": {
  "kernelspec": {
   "display_name": "env",
   "language": "python",
   "name": "python3"
  },
  "language_info": {
   "codemirror_mode": {
    "name": "ipython",
    "version": 3
   },
   "file_extension": ".py",
   "mimetype": "text/x-python",
   "name": "python",
   "nbconvert_exporter": "python",
   "pygments_lexer": "ipython3",
   "version": "3.10.12"
  }
 },
 "nbformat": 4,
 "nbformat_minor": 2
}
