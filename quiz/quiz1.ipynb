{
 "cells": [
  {
   "cell_type": "code",
   "execution_count": 86,
   "metadata": {},
   "outputs": [
    {
     "name": "stdout",
     "output_type": "stream",
     "text": [
      "The autoreload extension is already loaded. To reload it, use:\n",
      "  %reload_ext autoreload\n"
     ]
    }
   ],
   "source": [
    "%load_ext autoreload\n",
    "%autoreload 2"
   ]
  },
  {
   "cell_type": "code",
   "execution_count": 99,
   "metadata": {},
   "outputs": [],
   "source": [
    "import pandas as pd\n",
    "import numpy as np\n",
    "import matplotlib.pyplot as plt\n",
    "from portfolio_management_lib import calculate_return_annualized, calculate_volatility_annualized"
   ]
  },
  {
   "cell_type": "markdown",
   "metadata": {},
   "source": [
    "Read in the data in the file “Portfolios_Formed_on_ME_monthly_EW.csv” as we did in the lab sessions.We performed a series of analysis on the ‘Lo 10’ and the ‘Hi 10’ columns which are the returns of the lowest and highest decile portfolios. For purposes of this assignment, we will use the lowest and highest quintile portfolios, which are labelled ‘Lo 20’ and ‘Hi 20’ respectively."
   ]
  },
  {
   "cell_type": "code",
   "execution_count": 39,
   "metadata": {},
   "outputs": [
    {
     "name": "stderr",
     "output_type": "stream",
     "text": [
      "/tmp/ipykernel_17135/3522448521.py:2: UserWarning: Could not infer format, so each element will be parsed individually, falling back to `dateutil`. To ensure parsing is consistent and as-expected, please specify a format.\n",
      "  me_ew  = pd.read_csv(\n"
     ]
    },
    {
     "data": {
      "text/html": [
       "<div>\n",
       "<style scoped>\n",
       "    .dataframe tbody tr th:only-of-type {\n",
       "        vertical-align: middle;\n",
       "    }\n",
       "\n",
       "    .dataframe tbody tr th {\n",
       "        vertical-align: top;\n",
       "    }\n",
       "\n",
       "    .dataframe thead th {\n",
       "        text-align: right;\n",
       "    }\n",
       "</style>\n",
       "<table border=\"1\" class=\"dataframe\">\n",
       "  <thead>\n",
       "    <tr style=\"text-align: right;\">\n",
       "      <th></th>\n",
       "      <th>Lo 20</th>\n",
       "      <th>Hi 20</th>\n",
       "    </tr>\n",
       "  </thead>\n",
       "  <tbody>\n",
       "    <tr>\n",
       "      <th>1926-07</th>\n",
       "      <td>-0.0057</td>\n",
       "      <td>0.0333</td>\n",
       "    </tr>\n",
       "    <tr>\n",
       "      <th>1926-08</th>\n",
       "      <td>0.0384</td>\n",
       "      <td>0.0233</td>\n",
       "    </tr>\n",
       "    <tr>\n",
       "      <th>1926-09</th>\n",
       "      <td>-0.0048</td>\n",
       "      <td>-0.0009</td>\n",
       "    </tr>\n",
       "    <tr>\n",
       "      <th>1926-10</th>\n",
       "      <td>-0.0329</td>\n",
       "      <td>-0.0295</td>\n",
       "    </tr>\n",
       "    <tr>\n",
       "      <th>1926-11</th>\n",
       "      <td>-0.0055</td>\n",
       "      <td>0.0316</td>\n",
       "    </tr>\n",
       "  </tbody>\n",
       "</table>\n",
       "</div>"
      ],
      "text/plain": [
       "          Lo 20   Hi 20\n",
       "1926-07 -0.0057  0.0333\n",
       "1926-08  0.0384  0.0233\n",
       "1926-09 -0.0048 -0.0009\n",
       "1926-10 -0.0329 -0.0295\n",
       "1926-11 -0.0055  0.0316"
      ]
     },
     "execution_count": 39,
     "metadata": {},
     "output_type": "execute_result"
    }
   ],
   "source": [
    "# read me_ew from the data\n",
    "me_ew  = pd.read_csv(\n",
    "    'data/Portfolios_Formed_on_ME_monthly_EW.csv',\n",
    "    header=0, index_col=0, parse_dates=True, na_values=-99.99\n",
    "    )\n",
    "me_ew.head()\n",
    "\n",
    "# get the columns with names\n",
    "rets = me_ew[['Lo 20', 'Hi 20']]\n",
    "rets.head()\n",
    "\n",
    "# change % to decimal\n",
    "rets = rets/100\n",
    "\n",
    "# change the index in the form of datetime - month\n",
    "rets.index= pd.to_datetime(rets.index, format='%Y%m').to_period(\"M\")\n",
    "rets.head()"
   ]
  },
  {
   "cell_type": "markdown",
   "metadata": {},
   "source": [
    "##### 1. What was the Annualized Return of the `Lo20` portfolio over the entire period?"
   ]
  },
  {
   "cell_type": "code",
   "execution_count": 42,
   "metadata": {},
   "outputs": [
    {
     "data": {
      "text/plain": [
       "Lo 20    0.151977\n",
       "dtype: float64"
      ]
     },
     "execution_count": 42,
     "metadata": {},
     "output_type": "execute_result"
    }
   ],
   "source": [
    "q1_df = rets[['Lo 20']].copy()\n",
    "\n",
    "# calculate the annualized return\n",
    "n_months = q1_df.shape[0]\n",
    "# get the monthly geometric mean value\n",
    "monthly_average_return = (1 + q1_df).prod()**(1/n_months)\n",
    "# get the annualized return based on the monthly geometric mean of return value\n",
    "annualized_return = monthly_average_return**12 - 1\n",
    "annualized_return"
   ]
  },
  {
   "cell_type": "code",
   "execution_count": 91,
   "metadata": {},
   "outputs": [
    {
     "data": {
      "text/plain": [
       "Lo 20    0.151977\n",
       "Hi 20    0.098490\n",
       "dtype: float64"
      ]
     },
     "execution_count": 91,
     "metadata": {},
     "output_type": "execute_result"
    }
   ],
   "source": [
    "test = rets.copy()\n",
    "calculate_return_annualized(test, freq = \"Monthly\")"
   ]
  },
  {
   "cell_type": "markdown",
   "metadata": {},
   "source": [
    "##### 2. What was the Annualized Volatility of the `Lo 20` portfolio over the entire period?"
   ]
  },
  {
   "cell_type": "code",
   "execution_count": 46,
   "metadata": {},
   "outputs": [
    {
     "data": {
      "text/plain": [
       "Lo 20    0.336701\n",
       "dtype: float64"
      ]
     },
     "execution_count": 46,
     "metadata": {},
     "output_type": "execute_result"
    }
   ],
   "source": [
    "# get the Annualized Volatility of the Lo 20\n",
    "# using the equation simply -> sqrt(12)\n",
    "q2_annualized_volatility = q1_df.std()*np.sqrt(12)\n",
    "q2_annualized_volatility"
   ]
  },
  {
   "cell_type": "markdown",
   "metadata": {},
   "source": [
    "##### 3. What was the Annualized Return of the `Hi 20` portfolio over the entire period?"
   ]
  },
  {
   "cell_type": "code",
   "execution_count": 45,
   "metadata": {},
   "outputs": [
    {
     "data": {
      "text/plain": [
       "Hi 20    0.09849\n",
       "dtype: float64"
      ]
     },
     "execution_count": 45,
     "metadata": {},
     "output_type": "execute_result"
    }
   ],
   "source": [
    "# get the Annualized return of Hi 20\n",
    "q3_df = rets[['Hi 20']].copy()\n",
    "\n",
    "n_months = q3_df.shape[0] # get the number of months, i.e., the number months\n",
    "monthly_average_return = (1 + q3_df).prod()**(1/n_months) # get the monthly geometric mean of return\n",
    "annualized_return = monthly_average_return**12 - 1 # get the annualized return based on the monthly geometric mean of return value\n",
    "\n",
    "annualized_return"
   ]
  },
  {
   "cell_type": "markdown",
   "metadata": {},
   "source": [
    "##### 4. What was the Annualized Volatility of the `Hi 20` portfolio over the entire period?"
   ]
  },
  {
   "cell_type": "code",
   "execution_count": 47,
   "metadata": {},
   "outputs": [
    {
     "data": {
      "text/plain": [
       "Hi 20    0.195116\n",
       "dtype: float64"
      ]
     },
     "execution_count": 47,
     "metadata": {},
     "output_type": "execute_result"
    }
   ],
   "source": [
    "# get the Annualized Volatility of the Hi 20\n",
    "q4_annualized_volatility = q3_df.std()*np.sqrt(12)\n",
    "q4_annualized_volatility"
   ]
  },
  {
   "cell_type": "markdown",
   "metadata": {},
   "source": [
    "##### 5. What was the Annualized Return of the `Lo 20` portfolio over the period 1999 - 2015 (both inclusive)?"
   ]
  },
  {
   "cell_type": "code",
   "execution_count": 95,
   "metadata": {},
   "outputs": [],
   "source": [
    "q5 = rets[['Lo 20']].copy()\n",
    "q5 = q5['1999':'2015']"
   ]
  },
  {
   "cell_type": "code",
   "execution_count": 96,
   "metadata": {},
   "outputs": [
    {
     "data": {
      "text/plain": [
       "Lo 20    0.114426\n",
       "dtype: float64"
      ]
     },
     "execution_count": 96,
     "metadata": {},
     "output_type": "execute_result"
    }
   ],
   "source": [
    "q5_annualized_return = (1 + q5).prod()**(12/q5.shape[0]) - 1\n",
    "q5_annualized_return"
   ]
  },
  {
   "cell_type": "code",
   "execution_count": 97,
   "metadata": {},
   "outputs": [
    {
     "data": {
      "text/plain": [
       "Lo 20    0.114426\n",
       "dtype: float64"
      ]
     },
     "execution_count": 97,
     "metadata": {},
     "output_type": "execute_result"
    }
   ],
   "source": [
    "calculate_return_annualized(q5, freq = \"Monthly\")"
   ]
  },
  {
   "cell_type": "markdown",
   "metadata": {},
   "source": [
    "##### 6. What was the Annualized Volatility of the `Lo 20` portfolio over the period 1999 - 2015 (both inclusive)?"
   ]
  },
  {
   "cell_type": "code",
   "execution_count": 53,
   "metadata": {},
   "outputs": [
    {
     "data": {
      "text/plain": [
       "Lo 20    0.228894\n",
       "dtype: float64"
      ]
     },
     "execution_count": 53,
     "metadata": {},
     "output_type": "execute_result"
    }
   ],
   "source": [
    "q6_lo20_annualized_volatility = q5.std()*np.sqrt(12)\n",
    "q6_lo20_annualized_volatility\n"
   ]
  },
  {
   "cell_type": "markdown",
   "metadata": {},
   "source": [
    "##### 7. What was the Annualized Return of the `Hi 20` portfolio over the period 1999 - 2015 (both inclusive)?"
   ]
  },
  {
   "cell_type": "code",
   "execution_count": 75,
   "metadata": {},
   "outputs": [],
   "source": [
    "q7_hi20 = rets.copy()[['Hi 20']]\n",
    "q7_hi20 = q7_hi20['1999':'2015']"
   ]
  },
  {
   "cell_type": "code",
   "execution_count": 92,
   "metadata": {},
   "outputs": [
    {
     "data": {
      "text/plain": [
       "Hi 20    0.062865\n",
       "dtype: float64"
      ]
     },
     "execution_count": 92,
     "metadata": {},
     "output_type": "execute_result"
    }
   ],
   "source": [
    "calculate_return_annualized(q7_hi20, freq = \"Monthly\")"
   ]
  },
  {
   "cell_type": "markdown",
   "metadata": {},
   "source": [
    "##### 8. What was the Annualized Volatility of the `Hi 20` portfolio over the period 1999 - 2015 (both inclusive)?"
   ]
  },
  {
   "cell_type": "code",
   "execution_count": 100,
   "metadata": {},
   "outputs": [
    {
     "data": {
      "text/plain": [
       "Hi 20    0.172713\n",
       "dtype: float64"
      ]
     },
     "execution_count": 100,
     "metadata": {},
     "output_type": "execute_result"
    }
   ],
   "source": [
    "calculate_volatility_annualized(q7_hi20, freq = \"Monthly\")"
   ]
  },
  {
   "cell_type": "markdown",
   "metadata": {},
   "source": [
    "##### 9. What was the MAX Drawdown (expressed as a positive number) experienced over the 1999 - 2015 period in `Lo 20` portfolio."
   ]
  },
  {
   "cell_type": "code",
   "execution_count": 123,
   "metadata": {},
   "outputs": [
    {
     "data": {
      "text/plain": [
       "Lo 20   -0.624809\n",
       "dtype: float64"
      ]
     },
     "execution_count": 123,
     "metadata": {},
     "output_type": "execute_result"
    }
   ],
   "source": [
    "q9_lo20 = rets.copy()[['Lo 20']]\n",
    "q9_lo20 = q9_lo20['1999':'2015']\n",
    "q9_lo20_wealth = 1000 * (1 + q9_lo20).cumprod()\n",
    "q9_lo20_peaks = q9_lo20_wealth.cummax()\n",
    "\n",
    "q9_drawdowns = (q9_lo20_wealth - q9_lo20_peaks) / q9_lo20_peaks\n",
    "q9_drawdowns.min()"
   ]
  },
  {
   "cell_type": "markdown",
   "metadata": {},
   "source": [
    "##### 10. At the end of each month over the period 1999 - 2015 did that maximum drawdown on the `Lo 20` portfolio occur?"
   ]
  },
  {
   "cell_type": "code",
   "execution_count": 124,
   "metadata": {},
   "outputs": [
    {
     "data": {
      "text/plain": [
       "Lo 20    2009-02\n",
       "dtype: period[M]"
      ]
     },
     "execution_count": 124,
     "metadata": {},
     "output_type": "execute_result"
    }
   ],
   "source": [
    "q9_drawdowns.idxmin()"
   ]
  },
  {
   "cell_type": "code",
   "execution_count": 125,
   "metadata": {},
   "outputs": [
    {
     "data": {
      "text/plain": [
       "Lo 20   -0.624809\n",
       "Name: 2009-02, dtype: float64"
      ]
     },
     "execution_count": 125,
     "metadata": {},
     "output_type": "execute_result"
    }
   ],
   "source": [
    "# specific_row = df.loc['YYYY-MM']\n",
    "q9_drawdowns.loc['2009-02']"
   ]
  },
  {
   "cell_type": "markdown",
   "metadata": {},
   "source": [
    "##### 11. What was the Max Drawdown (expressed as a positive number) experienced over the 1999 - 2015 period in `Hi 20` portfolio?"
   ]
  },
  {
   "cell_type": "code",
   "execution_count": 127,
   "metadata": {},
   "outputs": [
    {
     "data": {
      "text/plain": [
       "Hi 20   -0.552735\n",
       "dtype: float64"
      ]
     },
     "execution_count": 127,
     "metadata": {},
     "output_type": "execute_result"
    }
   ],
   "source": [
    "q11_hi20 = rets.copy()[['Hi 20']]\n",
    "q11_hi20 = q11_hi20['1999':'2015']\n",
    "q11_hi20_wealth = 1000 * (1 + q11_hi20).cumprod()\n",
    "q11_hi20_peaks = q11_hi20_wealth.cummax()\n",
    "\n",
    "q11_drawdowns = (q11_hi20_wealth - q11_hi20_peaks) / q11_hi20_peaks\n",
    "q11_drawdowns.min()"
   ]
  },
  {
   "cell_type": "markdown",
   "metadata": {},
   "source": [
    "##### 12. Over the period 1999 - 2015, at the end of which month did that maximum drawdown of the `Hi 20` portfolio occur?"
   ]
  },
  {
   "cell_type": "code",
   "execution_count": 128,
   "metadata": {},
   "outputs": [
    {
     "data": {
      "text/plain": [
       "Hi 20    2009-02\n",
       "dtype: period[M]"
      ]
     },
     "execution_count": 128,
     "metadata": {},
     "output_type": "execute_result"
    }
   ],
   "source": [
    "q11_drawdowns.idxmin()"
   ]
  },
  {
   "cell_type": "markdown",
   "metadata": {},
   "source": [
    "For the remaining questions, use the **EDHEC Hedge Fund Indicies Data** set that we used in the lab assignment and load them into `Python`.\n"
   ]
  },
  {
   "cell_type": "code",
   "execution_count": null,
   "metadata": {},
   "outputs": [],
   "source": [
    "ed_hedge = pd.read_csv(\n",
    "    'data/edhec-hedgefundindices.csv',\n",
    "    header=0, index_col=0, parse_dates=True, na_values=-99.99\n",
    ")"
   ]
  },
  {
   "cell_type": "markdown",
   "metadata": {},
   "source": [
    "##### 13. Looking at the data since 2009 (including all of 2009) through 2018, which Hedge Fund Index has exhibited the highest semideviation?"
   ]
  },
  {
   "cell_type": "code",
   "execution_count": null,
   "metadata": {},
   "outputs": [],
   "source": []
  }
 ],
 "metadata": {
  "kernelspec": {
   "display_name": "Python 3",
   "language": "python",
   "name": "python3"
  },
  "language_info": {
   "codemirror_mode": {
    "name": "ipython",
    "version": 3
   },
   "file_extension": ".py",
   "mimetype": "text/x-python",
   "name": "python",
   "nbconvert_exporter": "python",
   "pygments_lexer": "ipython3",
   "version": "3.10.12"
  }
 },
 "nbformat": 4,
 "nbformat_minor": 2
}
