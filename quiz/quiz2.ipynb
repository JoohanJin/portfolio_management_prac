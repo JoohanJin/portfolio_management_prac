{
 "cells": [
  {
   "cell_type": "code",
   "execution_count": 5,
   "metadata": {},
   "outputs": [
    {
     "name": "stdout",
     "output_type": "stream",
     "text": [
      "The autoreload extension is already loaded. To reload it, use:\n",
      "  %reload_ext autoreload\n"
     ]
    }
   ],
   "source": [
    "%load_ext autoreload\n",
    "%autoreload 2\n",
    "%matplotlib inline\n",
    "\n",
    "import pandas as pd\n",
    "import numpy as np\n",
    "import sys\n",
    "\n",
    "sys.path.append(\"../lib\")\n",
    "\n",
    "import portfolio_management_lib as port"
   ]
  },
  {
   "cell_type": "markdown",
   "metadata": {},
   "source": [
    "##### Question 1\n",
    "USe the EDHEC Hedge Fund indicies data set that we use din the lab assignment as well as in the previous week's assignment. \n",
    "\n",
    "Load them into Python and perform the following analysis based on data since 2000 (inclduing all 2000): What was the Monthly Parametric Gaussian VaR at the 1% level (as a +ve number) of the Distressed Securities Strategy?\n",
    "\n",
    "You may either round or truncate to 1 decimal place, we will accept either answer."
   ]
  },
  {
   "cell_type": "code",
   "execution_count": 18,
   "metadata": {},
   "outputs": [
    {
     "name": "stderr",
     "output_type": "stream",
     "text": [
      "/tmp/ipykernel_55918/4064321777.py:1: UserWarning: Parsing dates in %d/%m/%Y format when dayfirst=False (the default) was specified. Pass `dayfirst=True` or specify a format to silence this warning.\n",
      "  data = pd.read_csv(\n"
     ]
    }
   ],
   "source": [
    "data = pd.read_csv(\n",
    "    \"data/edhec-hedgefundindices.csv\",\n",
    "    index_col = 0,\n",
    "    header = 0,\n",
    "    parse_dates = True\n",
    ")\n",
    "\n",
    "data = data/100\n",
    "data.index = data.index.to_period(\"M\")"
   ]
  },
  {
   "cell_type": "code",
   "execution_count": 23,
   "metadata": {},
   "outputs": [
    {
     "data": {
      "text/plain": [
       "np.float64(0.031430176939280456)"
      ]
     },
     "execution_count": 23,
     "metadata": {},
     "output_type": "execute_result"
    }
   ],
   "source": [
    "data_needed = data[\"2000\":]\n",
    "data_needed = data_needed[\"Distressed Securities\"]\n",
    "\n",
    "port.var_gaussian(\n",
    "    data_needed,\n",
    "    level = 1,\n",
    ")"
   ]
  },
  {
   "cell_type": "markdown",
   "metadata": {},
   "source": [
    "##### Quiz 2.\n",
    "Use the same dataset as the previous question. What was the 1% VaR for the same strategy after applying the Cornish-Fisher Adjustment?"
   ]
  },
  {
   "cell_type": "code",
   "execution_count": 24,
   "metadata": {},
   "outputs": [
    {
     "data": {
      "text/plain": [
       "np.float64(0.04966909110627921)"
      ]
     },
     "execution_count": 24,
     "metadata": {},
     "output_type": "execute_result"
    }
   ],
   "source": [
    "port.var_gaussian(\n",
    "    data_needed,\n",
    "    level = 1,\n",
    "    modified = True\n",
    ")"
   ]
  },
  {
   "cell_type": "markdown",
   "metadata": {},
   "source": [
    "##### Quiz 3.\n",
    "Use the same dataset as the previous question. What was the Monthly Historic VaR at the 1% level (as a +ve number) of the Distressed Securities strategy?"
   ]
  },
  {
   "cell_type": "code",
   "execution_count": 25,
   "metadata": {},
   "outputs": [
    {
     "data": {
      "text/plain": [
       "np.float64(0.04264199999999999)"
      ]
     },
     "execution_count": 25,
     "metadata": {},
     "output_type": "execute_result"
    }
   ],
   "source": [
    "port.var_historic(\n",
    "    data_needed,\n",
    "    level = 1,\n",
    ")"
   ]
  },
  {
   "cell_type": "markdown",
   "metadata": {},
   "source": [
    "##### Quiz 4.\n",
    "Next, load the 30 industry return data using the erk.get_ind_returns() function that we developed during the lab sessions. For purposes of the remaining questions, use data during the 5 year period 2013-2017 (both inclusive) to estimate the expected returns as well as the Covariacne Matrix. To be able to respond to the questions, you will need to build the MSR, EW and GMV portfolios consisting of the \"Books\", \"Steel\", \"Oil\" and \"Mines\" industries. Assume the risk free rate over the 5 year period is 10%.\n",
    "\n",
    "What is the weight of Steel in the EW portfolio?"
   ]
  },
  {
   "cell_type": "markdown",
   "metadata": {},
   "source": [
    "Answer: Since we are talking about EW portfolio with 4 assets, it is (1/4) = .25 = 25%"
   ]
  },
  {
   "cell_type": "code",
   "execution_count": 39,
   "metadata": {},
   "outputs": [
    {
     "name": "stderr",
     "output_type": "stream",
     "text": [
      "/home/joe/Study/portfolio_management_prac/quiz/../lib/portfolio_management_lib.py:237: UserWarning: Could not infer format, so each element will be parsed individually, falling back to `dateutil`. To ensure parsing is consistent and as-expected, please specify a format.\n",
      "  ind = pd.read_csv(\"data/ind30_m_vw_rets.csv\", header=0, index_col=0, parse_dates=True)/100\n"
     ]
    }
   ],
   "source": [
    "data = port.get_ind_returns()\n",
    "\n",
    "data = data[\"2013\":\"2017\"]\n",
    "\n",
    "l = ['Books', 'Steel', 'Oil', 'Mines']\n",
    "\n",
    "er = port.annualize_rets(\n",
    "    data[l],\n",
    "    \"Monthly\"\n",
    ")\n",
    "\n",
    "cov = data[l].cov()"
   ]
  },
  {
   "cell_type": "code",
   "execution_count": 40,
   "metadata": {},
   "outputs": [
    {
     "data": {
      "text/plain": [
       "array([0.00000000e+00, 1.00000000e+00, 6.00214323e-16, 7.35522754e-16])"
      ]
     },
     "execution_count": 40,
     "metadata": {},
     "output_type": "execute_result"
    }
   ],
   "source": [
    "port.msr(\n",
    "    er,\n",
    "    cov,\n",
    "    0.1\n",
    ")"
   ]
  },
  {
   "cell_type": "code",
   "execution_count": null,
   "metadata": {},
   "outputs": [],
   "source": [
    "port.gmv(\n",
    "    cov,\n",
    ")"
   ]
  }
 ],
 "metadata": {
  "kernelspec": {
   "display_name": "env",
   "language": "python",
   "name": "python3"
  },
  "language_info": {
   "codemirror_mode": {
    "name": "ipython",
    "version": 3
   },
   "file_extension": ".py",
   "mimetype": "text/x-python",
   "name": "python",
   "nbconvert_exporter": "python",
   "pygments_lexer": "ipython3",
   "version": "3.10.12"
  }
 },
 "nbformat": 4,
 "nbformat_minor": 2
}
